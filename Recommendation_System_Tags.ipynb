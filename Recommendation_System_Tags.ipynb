{
  "cells": [
    {
      "cell_type": "code",
      "execution_count": null,
      "metadata": {
        "colab": {
          "base_uri": "https://localhost:8080/"
        },
        "id": "HhITqg4-7pGv",
        "outputId": "cce0ed38-b1c0-483a-98b6-f89170611922"
      },
      "outputs": [
        {
          "output_type": "stream",
          "name": "stdout",
          "text": [
            "Mounted at /content/gdrive\n"
          ]
        }
      ],
      "source": [
        "from google.colab import drive \n",
        "drive.mount('/content/gdrive')"
      ]
    },
    {
      "cell_type": "code",
      "execution_count": null,
      "metadata": {
        "id": "EszuISlm7w2v"
      },
      "outputs": [],
      "source": [
        "# Import all the necessary libraries\n",
        "import csv\n",
        "import pandas as pd\n",
        "import numpy as np "
      ]
    },
    {
      "cell_type": "code",
      "execution_count": null,
      "metadata": {
        "id": "QILcedCd_0ha"
      },
      "outputs": [],
      "source": [
        "# Load data from csv file into a pandas dataframe\n",
        "df_1 = pd.read_csv('gdrive/My Drive/Colab Notebooks/GB_youtube_trending_data.csv')\n",
        "\n",
        "array = df_1.to_numpy() # Convert the pandas dataframe into a NumPy array\n",
        "\n",
        "# Loop through the list of tags and split them and write them into a csv file alongside channnel names\n",
        "for i in range(len(array)):\n",
        "  title = str(array[i][4])\n",
        "  tags = str(array[i][7]\n",
        "  x = tags.split(\"|\")\n",
        "\n",
        "  for j in range(len(x)):\n",
        "    with open('gdrive/My Drive/Colab Notebooks/tags3.csv', 'a',encoding='utf-8') as newFile:\n",
        "      FileWriter = csv.writer(newFile)\n",
        "      FileWriter.writerow([title, x[j]])"
      ]
    },
    {
      "cell_type": "code",
      "execution_count": null,
      "metadata": {
        "id": "SQqtu0bTNDNU"
      },
      "outputs": [],
      "source": [
        "# Add column names to the csv file\n",
        "file = pd.read_csv(\"gdrive/My Drive/Colab Notebooks/tags3.csv\")\n",
        "\n",
        "headerList = ['title', 'tags']\n",
        "\n",
        "file.to_csv(\"gdrive/My Drive/Colab Notebooks/newtags3.csv\", header=headerList, index=False)"
      ]
    },
    {
      "cell_type": "code",
      "execution_count": null,
      "metadata": {
        "id": "fboYwBwDOraR"
      },
      "outputs": [],
      "source": [
        "# Load all the data from from multiple csv files into pandas dataframes and join them into a single csv file \n",
        "data = pd.read_csv('gdrive/My Drive/Colab Notebooks/newtags.csv')\n",
        "\n",
        "data_2 = pd.read_csv('gdrive/My Drive/Colab Notebooks/newtags2.csv')\n",
        "\n",
        "data_3 = pd.read_csv('gdrive/My Drive/Colab Notebooks/newtags3.csv')\n",
        "\n",
        "data_final = pd.concat([data,data_2,data_3])\n",
        "\n",
        "data_final.to_csv('gdrive/My Drive/Colab Notebooks/mergedtags.csv', encoding='utf-8')"
      ]
    },
    {
      "cell_type": "code",
      "execution_count": null,
      "metadata": {
        "id": "VHxQuafJPxgZ"
      },
      "outputs": [],
      "source": [
        "# Remove all duplicate rows\n",
        "df = pd.read_csv('gdrive/My Drive/Colab Notebooks/mergedtags2.csv')\n",
        "\n",
        "print(df.info())\n",
        "\n",
        "df2 = df.drop_duplicates()\n",
        "\n",
        "print(df2.info())\n",
        "\n",
        "df2.to_csv('gdrive/My Drive/Colab Notebooks/mergedtags3.csv', encoding='utf-8')"
      ]
    },
    {
      "cell_type": "code",
      "execution_count": null,
      "metadata": {
        "id": "J4kZQ6xIUsMB"
      },
      "outputs": [],
      "source": [
        "# Sort the values in ascending order\n",
        "df = pd.read_csv('gdrive/My Drive/Colab Notebooks/mergedtags.csv')\n",
        "\n",
        "df2 = df.sort_values(by=['title'])\n",
        "\n",
        "df2.to_csv('gdrive/My Drive/Colab Notebooks/mergedtags2.csv', encoding='utf-8')"
      ]
    },
    {
      "cell_type": "code",
      "execution_count": null,
      "metadata": {
        "colab": {
          "base_uri": "https://localhost:8080/"
        },
        "id": "lobxagv5guKy",
        "outputId": "d0b6f492-ae21-4df6-ae5e-0831087eab3c"
      },
      "outputs": [
        {
          "output_type": "stream",
          "name": "stdout",
          "text": [
            "title                                        #TeamTrees  \\\n",
            "title                                                     \n",
            "#TeamTrees                                          1.0   \n",
            "(G)I-DLE (여자)아이들 (Official YouTube Channel)         0.0   \n",
            "10 News First                                       0.0   \n",
            "10 Tampa Bay                                        0.0   \n",
            "100 Thieves                                         0.0   \n",
            "\n",
            "title                                        (G)I-DLE (여자)아이들 (Official YouTube Channel)  \\\n",
            "title                                                                                      \n",
            "#TeamTrees                                                                           0.0   \n",
            "(G)I-DLE (여자)아이들 (Official YouTube Channel)                                          1.0   \n",
            "10 News First                                                                        0.0   \n",
            "10 Tampa Bay                                                                         0.0   \n",
            "100 Thieves                                                                          0.0   \n",
            "\n",
            "title                                        10 News First  10 Tampa Bay  \\\n",
            "title                                                                      \n",
            "#TeamTrees                                             0.0           0.0   \n",
            "(G)I-DLE (여자)아이들 (Official YouTube Channel)            0.0           0.0   \n",
            "10 News First                                          1.0           0.0   \n",
            "10 Tampa Bay                                           0.0           1.0   \n",
            "100 Thieves                                            0.0           0.0   \n",
            "\n",
            "title                                        100 Thieves  11Alive  \\\n",
            "title                                                               \n",
            "#TeamTrees                                           0.0      0.0   \n",
            "(G)I-DLE (여자)아이들 (Official YouTube Channel)          0.0      0.0   \n",
            "10 News First                                        0.0      0.0   \n",
            "10 Tampa Bay                                         0.0      0.0   \n",
            "100 Thieves                                          1.0      0.0   \n",
            "\n",
            "title                                        1804 Jackboy  1Rod1ReelFishing  \\\n",
            "title                                                                         \n",
            "#TeamTrees                                            0.0               0.0   \n",
            "(G)I-DLE (여자)아이들 (Official YouTube Channel)           0.0               0.0   \n",
            "10 News First                                         0.0               0.0   \n",
            "10 Tampa Bay                                          0.0               0.0   \n",
            "100 Thieves                                           0.0               0.0   \n",
            "\n",
            "title                                        1theK (원더케이)  2 Danny 2 Furious  \\\n",
            "title                                                                          \n",
            "#TeamTrees                                            0.0                0.0   \n",
            "(G)I-DLE (여자)아이들 (Official YouTube Channel)           0.0                0.0   \n",
            "10 News First                                         0.0                0.0   \n",
            "10 Tampa Bay                                          0.0                0.0   \n",
            "100 Thieves                                           0.0                0.0   \n",
            "\n",
            "title                                        ...  zanny  zefrank1  zollotech  \\\n",
            "title                                        ...                               \n",
            "#TeamTrees                                   ...    0.0       0.0        0.0   \n",
            "(G)I-DLE (여자)아이들 (Official YouTube Channel)  ...    0.0       0.0        0.0   \n",
            "10 News First                                ...    0.0       0.0        0.0   \n",
            "10 Tampa Bay                                 ...    0.0       0.0        0.0   \n",
            "100 Thieves                                  ...    0.0       0.0        0.0   \n",
            "\n",
            "title                                        ポケモン公式YouTubeチャンネル  李子柒 Liziqi  \\\n",
            "title                                                                         \n",
            "#TeamTrees                                                  0.0         0.0   \n",
            "(G)I-DLE (여자)아이들 (Official YouTube Channel)                 0.0         0.0   \n",
            "10 News First                                               0.0         0.0   \n",
            "10 Tampa Bay                                                0.0         0.0   \n",
            "100 Thieves                                                 0.0         0.0   \n",
            "\n",
            "title                                        놀면 뭐하니?  선미 SUNMI  \\\n",
            "title                                                            \n",
            "#TeamTrees                                       0.0       0.0   \n",
            "(G)I-DLE (여자)아이들 (Official YouTube Channel)      0.0       0.0   \n",
            "10 News First                                    0.0       0.0   \n",
            "10 Tampa Bay                                     0.0       0.0   \n",
            "100 Thieves                                      0.0       0.0   \n",
            "\n",
            "title                                        스브스케이팝 / SBS KPOP  \\\n",
            "title                                                            \n",
            "#TeamTrees                                                 0.0   \n",
            "(G)I-DLE (여자)아이들 (Official YouTube Channel)                0.0   \n",
            "10 News First                                              0.0   \n",
            "10 Tampa Bay                                               0.0   \n",
            "100 Thieves                                                0.0   \n",
            "\n",
            "title                                        아는형님 Knowingbros  채널 NCT DANCE  \n",
            "title                                                                        \n",
            "#TeamTrees                                                0.0           0.0  \n",
            "(G)I-DLE (여자)아이들 (Official YouTube Channel)               0.0           0.0  \n",
            "10 News First                                             0.0           0.0  \n",
            "10 Tampa Bay                                              0.0           0.0  \n",
            "100 Thieves                                               0.0           0.0  \n",
            "\n",
            "[5 rows x 3268 columns]\n"
          ]
        }
      ],
      "source": [
        "# Import functions from scipy\n",
        "from scipy.spatial.distance import pdist, squareform\n",
        "\n",
        "video_tags_df = pd.read_csv('gdrive/My Drive/Colab Notebooks/mergedtags3.csv')\n",
        "\n",
        "# Create cross-tabulated DataFrame from title and tags columns\n",
        "video_cross_table = pd.crosstab(video_tags_df['title'],video_tags_df['tags'])\n",
        "\n",
        "# Calculate all pairwise distances\n",
        "jaccard_distances = pdist(video_cross_table.values, metric='jaccard')\n",
        "\n",
        "# Convert the distances to a square matrix\n",
        "jaccard_similarity_array = 1 - squareform(jaccard_distances)\n",
        "\n",
        "# Wrap the array in a pandas dataframe\n",
        "jaccard_similarity_df = pd.DataFrame(jaccard_similarity_array, index=video_cross_table.index, columns=video_cross_table.index)\n",
        "\n",
        "# Print the top 5 rows of the dataframe\n",
        "print(jaccard_similarity_df.head())"
      ]
    },
    {
      "cell_type": "code",
      "execution_count": null,
      "metadata": {
        "id": "r91ZVoF_htha",
        "colab": {
          "base_uri": "https://localhost:8080/"
        },
        "outputId": "d507517c-59b9-40d6-f1d9-9ae1a619e5e3"
      },
      "outputs": [
        {
          "output_type": "stream",
          "name": "stdout",
          "text": [
            "title\n",
            "Fox News           1.000000\n",
            "Washington Post    0.041096\n",
            "Fox Business       0.036735\n",
            "CTV News           0.035714\n",
            "PBS NewsHour       0.033445\n",
            "Name: Fox News, dtype: float64\n"
          ]
        }
      ],
      "source": [
        "# Wrap the preloaded array in a dataframe\n",
        "jaccard_similarity_df = pd.DataFrame(jaccard_similarity_array, index=video_cross_table.index, columns=video_cross_table.index)\n",
        "\n",
        "# Find the values for Fox News\n",
        "jaccard_similarity_series = jaccard_similarity_df.loc['Fox News',:]\n",
        "\n",
        "# Sort these values from highest to lowest\n",
        "ordered_similarities = jaccard_similarity_series.sort_values(ascending=False)\n",
        "\n",
        "# Print the results\n",
        "print(ordered_similarities.head())"
      ]
    },
    {
      "cell_type": "code",
      "source": [],
      "metadata": {
        "id": "F1vir-xDwcn3"
      },
      "execution_count": null,
      "outputs": []
    }
  ],
  "metadata": {
    "accelerator": "GPU",
    "colab": {
      "machine_shape": "hm",
      "provenance": []
    },
    "gpuClass": "premium",
    "kernelspec": {
      "display_name": "Python 3",
      "name": "python3"
    },
    "language_info": {
      "name": "python"
    }
  },
  "nbformat": 4,
  "nbformat_minor": 0
}